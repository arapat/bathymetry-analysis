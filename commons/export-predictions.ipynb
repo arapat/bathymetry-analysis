{
 "cells": [
  {
   "cell_type": "code",
   "execution_count": 1,
   "metadata": {},
   "outputs": [
    {
     "name": "stdout",
     "output_type": "stream",
     "text": [
      "> ls ../runs/\n",
      "first-run\n",
      "new-data-runs-1\n",
      "new-data-runs-2\n",
      "second-run\n",
      "third-run-no-geoloc\n",
      "\n",
      "> ls ../runs/new-data-runs-1/runtime_scores\n",
      "AGSO_scores.pkl\n",
      "JAMSTEC_scores.pkl\n",
      "NGA_scores.pkl\n",
      "NOAA_geodas_scores.pkl\n",
      "US_multi_scores.pkl\n",
      "small\n",
      "NGDC_scores.pkl\n",
      "SIO_scores.pkl\n"
     ]
    }
   ],
   "source": [
    "%%bash\n",
    "\n",
    "echo \"> ls ../runs/\"\n",
    "ls ../runs/\n",
    "echo\n",
    "echo \"> ls ../runs/new-data-runs-1/runtime_scores\"\n",
    "ls -rt ../runs/new-data-runs-1/runtime_scores"
   ]
  },
  {
   "cell_type": "markdown",
   "metadata": {},
   "source": [
    "## List regions"
   ]
  },
  {
   "cell_type": "code",
   "execution_count": 3,
   "metadata": {},
   "outputs": [
    {
     "data": {
      "text/plain": [
       "['AGSO', 'JAMSTEC', 'NGA', 'NOAA_geodas', 'US_multi', 'NGDC', 'SIO']"
      ]
     },
     "execution_count": 3,
     "metadata": {},
     "output_type": "execute_result"
    }
   ],
   "source": [
    "import os\n",
    "\n",
    "\n",
    "base_dir = \"../runs/new-data-runs-1/runtime_scores\"\n",
    "output_ls = \"\"\"\n",
    "AGSO_scores.pkl\n",
    "JAMSTEC_scores.pkl\n",
    "NGA_scores.pkl\n",
    "NOAA_geodas_scores.pkl\n",
    "US_multi_scores.pkl\n",
    "NGDC_scores.pkl\n",
    "SIO_scores.pkl\n",
    "\"\"\"\n",
    "save_dir = \"export-new-features\"\n",
    "\n",
    "\n",
    "def get_regions(output_ls):\n",
    "    return [s.rsplit('_', 1)[0] for s in output_ls.strip().split('\\n')]\n",
    "\n",
    "\n",
    "if not os.path.exists(save_dir):\n",
    "    os.mkdir(save_dir)\n",
    "regions = get_regions(output_ls)\n",
    "regions"
   ]
  },
  {
   "cell_type": "markdown",
   "metadata": {},
   "source": [
    "## Export feature values and predictions\n",
    "\n",
    "Later we can simply load first four columns of the features from the `*_scores.pkl` files (instead of loading\n",
    "from the raw testing data)."
   ]
  },
  {
   "cell_type": "code",
   "execution_count": 4,
   "metadata": {},
   "outputs": [
    {
     "name": "stdout",
     "output_type": "stream",
     "text": [
      "AGSO, 1.68, 1.65, 2053659, 2053659, True\n",
      "JAMSTEC, 0.53, 1.09, 18644752, 18644752, True\n",
      "NGA, 36.14, 39.72, 185183, 185183, True\n",
      "NOAA_geodas, 19.73, 13.05, 2712567, 2712567, True\n",
      "US_multi, 11.74, 12.63, 5095320, 5095320, True\n",
      "NGDC, 6.76, 11.36, 17277131, 17277131, True\n",
      "SIO, 28.02, 23.58, 3104942, 3104942, True\n"
     ]
    }
   ],
   "source": [
    "import json\n",
    "import os\n",
    "import pickle\n",
    "import numpy as np\n",
    "\n",
    "\n",
    "with open(\"../modeling/config.json\") as f:\n",
    "    config = json.load(f)\n",
    "\n",
    "with open(config[\"testing_files\"]) as f:\n",
    "    all_testing_files = f.readlines()\n",
    "\n",
    "prefix = \"test\"\n",
    "for region in regions:\n",
    "    '''\n",
    "    region_files = [filepath.strip() for filepath in all_testing_files if \"/{}/\".format(region) in filepath]\n",
    "    bin_region_files = map(lambda filename: \"../\" + get_binary_filename(prefix, filename), region_files)\n",
    "    bin_region_files = filter(os.path.exists, bin_region_files)\n",
    "\n",
    "    # Read features\n",
    "    features_for_vis = []\n",
    "    for filename in bin_region_files:\n",
    "        features, _labels, _weights, _ = read_data_from_binary(filename)\n",
    "        cols_for_vis = map(lambda elem: elem[:4], features)\n",
    "        features_for_vis += list(cols_for_vis)\n",
    "    '''\n",
    "\n",
    "    # Read scores\n",
    "    scores_filepath = os.path.join(base_dir, \"{}_scores.pkl\".format(region))\n",
    "    with open(scores_filepath, 'rb') as f:\n",
    "        features_for_vis, labels, scores, weights = pickle.load(f)\n",
    "    edit_rate = np.sum(labels) / labels.shape[0]\n",
    "    weighted_edit_rate = np.sum(labels * weights) / np.sum(weights)\n",
    "\n",
    "    # Write a file for visualization\n",
    "    export_filename = os.path.join(save_dir, \"export_{}.txt\".format(region))\n",
    "    with open(export_filename, 'w') as f:\n",
    "        f.write(\"lat lon depth pred label weight score\\n\")\n",
    "        for label, score, weight, features in zip(labels, scores, weights, features_for_vis):\n",
    "            lat, lon, depth, pred = features\n",
    "            f.write(\"{} {} {} {} {} {} {}\\n\".format(lat, lon, depth, pred, label, weight, score))\n",
    "\n",
    "    # Report stats\n",
    "    print(\"{0:}, {1:.2f}, {2:.2f}, {3:}, {4:}, {5:}\".format(\n",
    "        region, edit_rate * 100.0, weighted_edit_rate * 100.0, len(features_for_vis), labels.shape[0],\n",
    "        len(features_for_vis) == labels.shape[0]))"
   ]
  },
  {
   "cell_type": "code",
   "execution_count": null,
   "metadata": {},
   "outputs": [],
   "source": []
  },
  {
   "cell_type": "markdown",
   "metadata": {},
   "source": [
    "# (maybe) some visualization"
   ]
  },
  {
   "cell_type": "code",
   "execution_count": null,
   "metadata": {},
   "outputs": [],
   "source": [
    "# No longer needed; the score pickle files now contains the needed feature values\n",
    "'''\n",
    "def read_data_from_binary(filename):\n",
    "    with open(filename, 'rb') as f:\n",
    "        features, labels, weights = pickle.load(f)\n",
    "    return (features, labels, weights, 0)\n",
    "\n",
    "\n",
    "\n",
    "def get_binary_filename(prefix, filename):\n",
    "    if prefix and not prefix.endswith('_'):\n",
    "        prefix = prefix + '_'\n",
    "    if not os.path.exists(BINARY_DIR):\n",
    "        os.mkdir(BINARY_DIR)\n",
    "    basename = os.path.basename(filename)\n",
    "    dirname = os.path.basename(os.path.dirname(filename))\n",
    "    filename = prefix + dirname + '_' + basename + \".pkl\"\n",
    "    return os.path.join(BINARY_DIR, filename)\n",
    "'''"
   ]
  },
  {
   "cell_type": "code",
   "execution_count": 97,
   "metadata": {},
   "outputs": [
    {
     "data": {
      "image/png": "[encoded data removed]",
      "text/plain": [
       "<Figure size 720x432 with 1 Axes>"
      ]
     },
     "metadata": {
      "needs_background": "light"
     },
     "output_type": "display_data"
    },
    {
     "data": {
      "image/png": "[encoded data removed]",
      "text/plain": [
       "<Figure size 720x432 with 1 Axes>"
      ]
     },
     "metadata": {
      "needs_background": "light"
     },
     "output_type": "display_data"
    }
   ],
   "source": [
    "import numpy as np\n",
    "\n",
    "plt.subplots(figsize=(10, 6))\n",
    "\n",
    "y = (np.array(list(range(len(p_scores)))) + 1) / len(p_scores)\n",
    "x = np.array(sorted(p_scores)) * 2 - 1\n",
    "plt.plot(x, y)\n",
    "plt.yscale(\"log\")\n",
    "plt.grid();\n",
    "# plt.ylim(0.4, 1.1)\n",
    "# plt.xlim(0.0, 0.05);\n",
    "\n",
    "\n",
    "plt.subplots(figsize=(10, 6))\n",
    "\n",
    "y = (np.array(list(range(len(p_scores)))) + 1) / len(p_scores)\n",
    "x = np.array(sorted(p_scores)) * 2 - 1\n",
    "plt.plot(x, y)\n",
    "plt.yscale(\"log\")\n",
    "plt.grid();\n",
    "plt.ylim(0.4, 1.1);\n",
    "# plt.xlim(0.0, 0.05);\n"
   ]
  },
  {
   "cell_type": "code",
   "execution_count": 98,
   "metadata": {},
   "outputs": [
    {
     "name": "stdout",
     "output_type": "stream",
     "text": [
      "1276514 0.51967 0.44155 0.03878\n"
     ]
    }
   ],
   "source": [
    "total = len(examples)\n",
    "print(\"%d %.5f %.5f %.5f\" % (total, len(good_points) / total, len(uncertain) / total, len(bad_points) / total))"
   ]
  },
  {
   "cell_type": "code",
   "execution_count": null,
   "metadata": {},
   "outputs": [],
   "source": []
  },
  {
   "cell_type": "code",
   "execution_count": null,
   "metadata": {},
   "outputs": [],
   "source": []
  }
 ],
 "metadata": {
  "kernelspec": {
   "display_name": "Python 3",
   "language": "python",
   "name": "python3"
  },
  "language_info": {
   "codemirror_mode": {
    "name": "ipython",
    "version": 3
   },
   "file_extension": ".py",
   "mimetype": "text/x-python",
   "name": "python",
   "nbconvert_exporter": "python",
   "pygments_lexer": "ipython3",
   "version": "3.7.3"
  }
 },
 "nbformat": 4,
 "nbformat_minor": 2
}

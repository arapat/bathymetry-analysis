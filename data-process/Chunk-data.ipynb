{
 "cells": [
  {
   "cell_type": "code",
   "execution_count": 1,
   "metadata": {},
   "outputs": [],
   "source": [
    "base_dir = \"/Users/igpp-jalafate/workbox/bathymetry-analysis/train-logs/runtime_data\"\n",
    "import io\n",
    "import os\n",
    "import numpy as np\n",
    "import pandas as pd\n",
    "import pickle\n",
    "from os.path import split as split_path\n",
    "\n",
    "write_dir = \"/cryosat3/jalafate/bathymetry/data/chulks\""
   ]
  },
  {
   "cell_type": "markdown",
   "metadata": {},
   "source": [
    "# Create chulks"
   ]
  },
  {
   "cell_type": "code",
   "execution_count": 16,
   "metadata": {},
   "outputs": [
    {
     "name": "stdout",
     "output_type": "stream",
     "text": [
      "failed, /Users/igpp-jalafate/workbox/bathymetry-analysis/train-logs/runtime_data/inventory_valid.txt\n",
      "failed, /Users/igpp-jalafate/workbox/bathymetry-analysis/train-logs/runtime_data/with_part.sh\n",
      "failed, /Users/igpp-jalafate/workbox/bathymetry-analysis/train-logs/runtime_data/inventory_train.txt\n",
      "failed, /Users/igpp-jalafate/workbox/bathymetry-analysis/train-logs/runtime_data/inventory_test.txt\n"
     ]
    }
   ],
   "source": [
    "# regions = ['AGSO', 'JAMSTEC', 'NGA', 'NGDC', 'NOAA_geodas', 'SIO', 'US_multi']\n",
    "for filename in os.listdir(base_dir):\n",
    "    try:\n",
    "        path = os.path.join(base_dir, filename)\n",
    "        with open(path, 'rb') as f:\n",
    "            features, labels, weights = pickle.load(f)\n",
    "    except:\n",
    "        print(\"failed,\", path)\n",
    "        continue\n",
    "\n",
    "    basename = filename.rsplit(\".\", 2)[0]  # e.g., valid_US_multi_ew9904_ed\n",
    "    basename_comp = basename.split('_')\n",
    "    dtype = basename_comp[0]\n",
    "    region = basename_comp[1]\n",
    "    if region == \"US\":\n",
    "        region = \"US_multi\"\n",
    "        cruise_name = '_'.join(basename_comp[3:])\n",
    "    elif region == \"NOAA\":\n",
    "        region = \"NOAA_geodas\"\n",
    "        cruise_name = '_'.join(basename_comp[3:])\n",
    "    else:\n",
    "        cruise_name = '_'.join(basename_comp[2:])\n",
    "    \n",
    "    num_line = len(labels)\n",
    "    num_corrupt = num_line - np.sum(labels)\n",
    "\n",
    "    data_type = np.nan_to_num(np.array(features)[:, -1]).astype(int)\n",
    "    bin_counts = np.bincount(data_type, minlength=5)\n",
    "\n",
    "    chulk_size = 5000\n",
    "    if bin_counts[0] + bin_counts[1] > 0:\n",
    "        chulk_size = 100000\n",
    "\n",
    "    cursor = 0\n",
    "    part = 0\n",
    "    while num_line - cursor >= 2 * chulk_size:\n",
    "        part_filename = basename + \".part{}.pkl\".format(part)\n",
    "        part += 1\n",
    "        start, end = cursor, cursor + chulk_size\n",
    "        cursor += chulk_size\n",
    "        with open(os.path.join(write_dir, part_filename), \"wb\") as f:\n",
    "            pickle.dump((features[start:end], labels[start:end], weights[start:end]), f)\n",
    "    if cursor < num_line:\n",
    "        part_filename = basename + \".part{}.pkl\".format(part)\n",
    "        part += 1\n",
    "        start, end = cursor, cursor + chulk_size\n",
    "        cursor += chulk_size\n",
    "        write_filepath = os.path.join(write_dir, part_filename)\n",
    "        with open(write_filepath, \"wb\") as f:\n",
    "            pickle.dump((features[start:end], labels[start:end], weights[start:end]), f)\n",
    "    break"
   ]
  },
  {
   "cell_type": "markdown",
   "metadata": {},
   "source": [
    "# Train/test split"
   ]
  },
  {
   "cell_type": "code",
   "execution_count": 30,
   "metadata": {},
   "outputs": [],
   "source": [
    "from random import random"
   ]
  },
  {
   "cell_type": "code",
   "execution_count": 31,
   "metadata": {},
   "outputs": [],
   "source": [
    "# regions = ['AGSO', 'JAMSTEC', 'NGA', 'NGDC', 'NOAA_geodas', 'SIO', 'US_multi']\n",
    "dtypes = []\n",
    "regions = []\n",
    "cruises = []\n",
    "num_lines = []\n",
    "num_corrupts = []\n",
    "\n",
    "for filename in os.listdir(write_dir):\n",
    "    path = os.path.join(write_dir, filename)\n",
    "    if not filename.endswith(\".pkl\"):\n",
    "        continue\n",
    "\n",
    "    basename = filename.rsplit(\".\", 2)[0]  # e.g., valid_US_multi_ew9904_ed\n",
    "    basename_comp = basename.split('_')\n",
    "    region = basename_comp[1]\n",
    "    if region == \"US\":\n",
    "        region = \"US_multi\"\n",
    "        cruise_name = '_'.join(basename_comp[3:])\n",
    "    elif region == \"NOAA\":\n",
    "        region = \"NOAA_geodas\"\n",
    "        cruise_name = '_'.join(basename_comp[3:])\n",
    "    else:\n",
    "        cruise_name = '_'.join(basename_comp[2:])\n",
    "\n",
    "    dtype = \"train\"\n",
    "    rand = random()\n",
    "    if 0.7 <= rand < 0.85:\n",
    "        dtype = \"valid\"\n",
    "    elif rand >= 0.85:\n",
    "        dtype = \"test\"\n",
    "\n",
    "    target_dir = os.path.join(write_dir, region, dtype)\n",
    "    new_path = os.path.join(target_dir, filename)\n",
    "    os.rename(path, new_path)"
   ]
  },
  {
   "cell_type": "markdown",
   "metadata": {},
   "source": [
    "# Count lines"
   ]
  },
  {
   "cell_type": "code",
   "execution_count": 32,
   "metadata": {},
   "outputs": [],
   "source": [
    "dtypes = []\n",
    "regions = []\n",
    "num_lines = []\n",
    "num_corrupts = []\n",
    "\n",
    "\n",
    "# regions = ['AGSO', 'JAMSTEC', 'NGA', 'NGDC', 'NOAA_geodas', 'SIO', 'US_multi']\n",
    "for region in os.listdir(write_dir):\n",
    "    dir_name = os.path.join(write_dir, region)\n",
    "    if not os.path.isdir(dir_name):\n",
    "        continue\n",
    "\n",
    "    for dtype in [\"train\", \"valid\", \"test\"]:\n",
    "        subdir_name = os.path.join(dir_name, dtype)\n",
    "        for filename in os.listdir(subdir_name):\n",
    "            try:\n",
    "                path = os.path.join(subdir_name, filename)\n",
    "                with open(path, 'rb') as f:\n",
    "                    features, labels, weights = pickle.load(f)\n",
    "            except:\n",
    "                print(\"failed,\", path)\n",
    "                continue\n",
    "\n",
    "            num_line = len(labels)\n",
    "            num_corrupt = num_line - np.sum(labels)\n",
    "\n",
    "            dtypes.append(dtype)\n",
    "            regions.append(region)\n",
    "            num_lines.append(num_line)\n",
    "            num_corrupts.append(num_corrupt)"
   ]
  },
  {
   "cell_type": "code",
   "execution_count": 33,
   "metadata": {},
   "outputs": [],
   "source": [
    "df = pd.DataFrame.from_dict({\n",
    "    \"dtype\": dtypes,\n",
    "    \"region\": regions,\n",
    "    \"num_line\": num_lines,\n",
    "    \"num_corrupt\": num_corrupts,\n",
    "})\n",
    "if True:\n",
    "    df.to_pickle(\"count-lines-chulks.pickle\")"
   ]
  },
  {
   "cell_type": "code",
   "execution_count": null,
   "metadata": {},
   "outputs": [],
   "source": []
  }
 ],
 "metadata": {
  "kernelspec": {
   "display_name": "Python 3",
   "language": "python",
   "name": "python3"
  },
  "language_info": {
   "codemirror_mode": {
    "name": "ipython",
    "version": 3
   },
   "file_extension": ".py",
   "mimetype": "text/x-python",
   "name": "python",
   "nbconvert_exporter": "python",
   "pygments_lexer": "ipython3",
   "version": "3.7.6"
  }
 },
 "nbformat": 4,
 "nbformat_minor": 4
}

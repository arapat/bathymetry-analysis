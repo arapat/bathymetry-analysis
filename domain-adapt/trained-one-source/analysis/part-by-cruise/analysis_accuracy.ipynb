{
 "cells": [
  {
   "cell_type": "markdown",
   "metadata": {},
   "source": [
    "# Model Performance on Data from Different Sources\n",
    "\n",
    "In this notebook, we evaluated the cross dataset accuracy of the trained classifiers.\n",
    "\n",
    "There are 15 different data sources.\n",
    "For each data source, we trained a classifier using a training sample from the data source.\n",
    "For evaluation, we use each classifier to predict the labels of 15 new samples from each data sources.\n",
    "Finally, we organize the model accuracy on each sample sets into a 15x15 matrix."
   ]
  },
  {
   "cell_type": "code",
   "execution_count": 1,
   "metadata": {},
   "outputs": [],
   "source": [
    "import pandas as pd\n",
    "import numpy as np\n",
    "from io import StringIO"
   ]
  },
  {
   "cell_type": "code",
   "execution_count": 9,
   "metadata": {},
   "outputs": [],
   "source": [
    "with open(\"logs-cross.txt\") as f:\n",
    "    lines = [line for line in f.readlines() if \"eval\" in line]\n",
    "df_cross_region = pd.read_csv(\n",
    "    StringIO(''.join(lines)),\n",
    "    names=[\"_1\", \"model\", \"data\", \"model_size\", \"avg_potential\", \"auprc\", \"auroc\", \"accuracy\"],\n",
    ")\n",
    "df_cross_region.drop(columns=[\"_1\"], inplace=True)"
   ]
  },
  {
   "cell_type": "code",
   "execution_count": 74,
   "metadata": {},
   "outputs": [],
   "source": [
    "regions = set(df_cross_region[\"model\"]) \\\n",
    "            .union(set(df_cross_region[\"data\"]))\n",
    "regions_mapping = dict([(region, i) for i, region in enumerate(regions)])\n",
    "regions_mapping = {\n",
    "    ' US_multi': 0,\n",
    "    ' AGSO': 1,\n",
    "    ' NGDC': 2,\n",
    "    ' SIO': 3,\n",
    "    ' NOAA_geodas': 4,\n",
    "    ' NGA': 5,\n",
    "    ' JAMSTEC': 6,\n",
    "    ' JAMSTEC2': 7,\n",
    "}\n",
    "regions = list(map(lambda t: t[1], sorted(\n",
    "    map(lambda t: (t[1], t[0]),\n",
    "        regions_mapping.items()))))\n",
    "regions[regions.index(\" NOAA_geodas\")] = \"geodas\"\n",
    "regions[regions.index(\" JAMSTEC\")] = \"JAMS\"\n",
    "regions[regions.index(\" JAMSTEC2\")] = \"JAMS2\""
   ]
  },
  {
   "cell_type": "code",
   "execution_count": 75,
   "metadata": {},
   "outputs": [
    {
     "data": {
      "image/png": "[encoded data removed]",
      "text/plain": [
       "<Figure size 720x432 with 2 Axes>"
      ]
     },
     "metadata": {
      "needs_background": "light"
     },
     "output_type": "display_data"
    }
   ],
   "source": [
    "%matplotlib inline\n",
    "\n",
    "from matplotlib import pyplot as plt\n",
    "\n",
    "mat = np.zeros(shape=(len(regions_mapping), len(regions_mapping)))\n",
    "for index, row in df_cross_region.iterrows():\n",
    "    mat[regions_mapping[row.model]][regions_mapping[row[\"data\"]]] = row.auroc\n",
    "\n",
    "if True:\n",
    "    THRESHOLD = 0.5\n",
    "    mat = np.clip((mat - THRESHOLD), 0.0, 1.0)\n",
    "\n",
    "fig, ax = plt.subplots(figsize=(10, 6))\n",
    "cax = ax.matshow(mat)\n",
    "fig.colorbar(cax);\n",
    "\n",
    "ax.set_xticklabels([''] + regions)\n",
    "ax.set_yticklabels([''] + regions);"
   ]
  },
  {
   "cell_type": "code",
   "execution_count": null,
   "metadata": {},
   "outputs": [],
   "source": []
  }
 ],
 "metadata": {
  "kernelspec": {
   "display_name": "Python 3",
   "language": "python",
   "name": "python3"
  },
  "language_info": {
   "codemirror_mode": {
    "name": "ipython",
    "version": 3
   },
   "file_extension": ".py",
   "mimetype": "text/x-python",
   "name": "python",
   "nbconvert_exporter": "python",
   "pygments_lexer": "ipython3",
   "version": "3.7.3"
  }
 },
 "nbformat": 4,
 "nbformat_minor": 2
}

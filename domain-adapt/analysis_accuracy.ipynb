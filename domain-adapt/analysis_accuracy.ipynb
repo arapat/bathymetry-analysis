{
 "cells": [
  {
   "cell_type": "markdown",
   "metadata": {},
   "source": [
    "# Model Performance on Data from Different Sources\n",
    "\n",
    "In this notebook, we evaluated the cross dataset accuracy of the trained classifiers.\n",
    "\n",
    "There are 15 different data sources.\n",
    "For each data source, we trained a classifier using a training sample from the data source.\n",
    "For evaluation, we use each classifier to predict the labels of 15 new samples from each data sources.\n",
    "Finally, we organize the model accuracy on each sample sets into a 15x15 matrix."
   ]
  },
  {
   "cell_type": "code",
   "execution_count": 236,
   "metadata": {},
   "outputs": [],
   "source": [
    "import pandas as pd\n",
    "import numpy as np"
   ]
  },
  {
   "cell_type": "code",
   "execution_count": 237,
   "metadata": {},
   "outputs": [],
   "source": [
    "with open(\"testing_log_all.log\") as f:\n",
    "    lines = f.readlines()\n",
    "\n",
    "data = []\n",
    "i = 0\n",
    "while i + 2 < len(lines):\n",
    "    split = lines[i].strip().split()\n",
    "    model = split[3]\n",
    "    test = split[6]\n",
    "    split = lines[i + 2].split(',')\n",
    "    model_size = int(split[2])\n",
    "    avg_potential = float(split[3])\n",
    "    auprc = float(split[4])\n",
    "    auroc = float(split[5])\n",
    "    data.append([\n",
    "        model, test, model_size, avg_potential, auprc, auroc,\n",
    "    ])\n",
    "    i += 3\n",
    "\n",
    "row_pd = pd.DataFrame(data, columns=[\"model\", \"data\", \"model_size\", \"avg_potential\", \"auprc\", \"auroc\"])\n",
    "data_dict = {name: i for i, name in enumerate(row_pd[\"model\"].unique())}\n",
    "rev_data_dict = {i: name for name, i in data_dict.items()}"
   ]
  },
  {
   "cell_type": "code",
   "execution_count": 238,
   "metadata": {},
   "outputs": [],
   "source": [
    "mat = np.zeros(shape=(len(data_dict), len(data_dict)))\n",
    "for index, row in row_pd.iterrows():\n",
    "    mat[data_dict[row.model]][data_dict[row[\"data\"]]] = row.auroc\n",
    "\n",
    "mat = np.nan_to_num(mat)"
   ]
  },
  {
   "cell_type": "code",
   "execution_count": 239,
   "metadata": {},
   "outputs": [
    {
     "name": "stdout",
     "output_type": "stream",
     "text": [
      "1.00 0.00 0.50 0.49 0.22 0.50 0.61 0.39 0.28 0.55 0.67 0.61 0.60 0.69 0.66\n",
      "0.50 0.00 0.50 0.50 0.50 0.50 0.50 0.50 0.50 0.50 0.50 0.50 0.50 0.50 0.50\n",
      "0.65 0.00 0.94 0.63 0.70 0.48 0.69 0.54 0.69 0.50 0.23 0.55 0.52 0.61 0.70\n",
      "0.49 0.00 0.50 1.00 0.92 0.48 0.52 0.39 0.65 0.55 0.57 0.54 0.58 0.45 0.33\n",
      "0.61 0.00 0.72 0.58 1.00 0.53 0.50 0.63 0.66 0.49 0.86 0.73 0.50 0.71 0.80\n",
      "0.42 0.00 0.66 0.52 0.86 0.99 0.53 0.66 0.77 0.47 0.58 0.81 0.57 0.73 0.48\n",
      "0.67 0.00 0.57 0.43 0.79 0.47 0.99 0.55 0.56 0.51 0.21 0.47 0.63 0.56 0.85\n",
      "0.65 0.00 0.90 0.72 0.95 0.56 0.92 1.00 0.77 0.67 0.67 0.80 0.74 0.77 0.91\n",
      "0.45 0.00 0.86 0.75 0.96 0.62 0.94 0.63 1.00 0.67 0.29 0.83 0.71 0.73 0.91\n",
      "0.54 0.00 0.56 0.56 0.83 0.48 0.57 0.78 0.74 1.00 0.20 0.74 0.45 0.74 0.56\n",
      "0.44 0.00 0.51 0.52 0.69 0.53 0.34 0.51 0.50 0.33 0.98 0.60 0.51 0.55 0.28\n",
      "0.47 0.00 0.70 0.53 0.90 0.68 0.75 0.66 0.77 0.38 0.71 1.00 0.54 0.67 0.70\n",
      "0.62 0.00 0.89 0.66 0.90 0.50 0.96 0.36 0.49 0.61 0.19 0.23 1.00 0.71 0.81\n",
      "0.52 0.00 0.71 0.58 0.95 0.50 0.85 0.73 0.74 0.74 0.20 0.83 0.54 1.00 0.82\n",
      "0.63 0.00 0.61 0.47 0.90 0.45 0.78 0.54 0.49 0.47 0.74 0.61 0.68 0.57 0.98\n"
     ]
    }
   ],
   "source": [
    "import sys\n",
    "np.savetxt(sys.stdout, mat, '%1.2f')"
   ]
  },
  {
   "cell_type": "code",
   "execution_count": 240,
   "metadata": {},
   "outputs": [
    {
     "data": {
      "image/png": "[encoded data removed]",
      "text/plain": [
       "<Figure size 720x432 with 2 Axes>"
      ]
     },
     "metadata": {
      "needs_background": "light"
     },
     "output_type": "display_data"
    }
   ],
   "source": [
    "%matplotlib inline\n",
    "from matplotlib import pyplot as plt\n",
    "\n",
    "fig, ax = plt.subplots(figsize=(10, 6))\n",
    "cax = ax.matshow(mat.clip(0, 1))\n",
    "fig.colorbar(cax);"
   ]
  },
  {
   "cell_type": "markdown",
   "metadata": {},
   "source": [
    "# Simple Hierarchical Clustering\n",
    "\n",
    "We then use a simple hierarchical clustering algorithm to find the potential \"communities\" of the data sources. Specifically, we want to find a disjoint partitioning of the data sources, such that the model trained on any data source within the partition can make reasonably good predictions on the data samples from a different data source in its partition."
   ]
  },
  {
   "cell_type": "code",
   "execution_count": 242,
   "metadata": {},
   "outputs": [],
   "source": [
    "order = []\n",
    "for i in range(mat.shape[0]):\n",
    "    for j in range(i + 1, mat.shape[1]):\n",
    "        order.append((max(mat[i][j], mat[j][i]), (i, j)))\n",
    "order = sorted(order, reverse=True)"
   ]
  },
  {
   "cell_type": "code",
   "execution_count": 243,
   "metadata": {},
   "outputs": [
    {
     "name": "stdout",
     "output_type": "stream",
     "text": [
      "The tree structure: (1, (0, (9, (5, (10, (2, (11, (14, (3, ((12, 6), (7, (13, (8, 4)))))))))))))\n"
     ]
    }
   ],
   "source": [
    "prt = [i for i in range(mat.shape[0])]\n",
    "tree_nodes = {i: i for i in range(mat.shape[0])}\n",
    "tree_count = mat.shape[0]\n",
    "\n",
    "def find_prt(i):\n",
    "    global prt\n",
    "    if i == prt[i]:\n",
    "        return i\n",
    "    prt[i] = find_prt(prt[i])\n",
    "    return prt[i]\n",
    "\n",
    "for _, (i, j) in order:\n",
    "    find_prt(i)\n",
    "    find_prt(j)\n",
    "    if prt[i] == prt[j]:\n",
    "        continue\n",
    "    tree_nodes[tree_count] = (tree_nodes[prt[i]], tree_nodes[prt[j]])\n",
    "    del tree_nodes[prt[i]]\n",
    "    del tree_nodes[prt[j]]\n",
    "    prt[prt[i]] = tree_count\n",
    "    prt[prt[j]] = tree_count\n",
    "    assert(len(prt) == tree_count)\n",
    "    prt.append(tree_count)\n",
    "    tree_count += 1\n",
    "hier = list(tree_nodes.values())\n",
    "assert(len(hier) == 1)\n",
    "\n",
    "\n",
    "def shuffle_right(tree):\n",
    "    assert(type(tree) != tuple or len(tree) == 2)\n",
    "    if type(tree) != tuple:\n",
    "        return (tree, 1)\n",
    "    left_tree, left_size = shuffle_right(tree[0])\n",
    "    righ_tree, righ_size = shuffle_right(tree[1])\n",
    "    total = left_size + righ_size\n",
    "    if left_size < righ_size:\n",
    "        return ((left_tree, righ_tree), total)\n",
    "    return ((righ_tree, left_tree), total)\n",
    "\n",
    "tree, _ = shuffle_right(hier[0])\n",
    "print(\"The tree structure:\", tree)"
   ]
  },
  {
   "cell_type": "code",
   "execution_count": 244,
   "metadata": {},
   "outputs": [
    {
     "data": {
      "text/plain": [
       "('lakes',\n",
       " ('NGA',\n",
       "  ('DGBR',\n",
       "   ('NOAA',\n",
       "    ('NAVO',\n",
       "     ('GEOMAR',\n",
       "      ('IFREMER',\n",
       "       ('IBCAO',\n",
       "        ('JAMSTEC',\n",
       "         (('AGSO', 'CCOM'), ('US', ('NGDC', ('SIO', 'GEBCO')))))))))))))"
      ]
     },
     "execution_count": 244,
     "metadata": {},
     "output_type": "execute_result"
    }
   ],
   "source": [
    "def map_to_source(tree):\n",
    "    assert(type(tree) != tuple or len(tree) == 2)\n",
    "    if type(tree) != tuple:\n",
    "        return rev_data_dict[tree]\n",
    "    left_tree = map_to_source(tree[0])\n",
    "    righ_tree = map_to_source(tree[1])\n",
    "    return (left_tree, righ_tree)\n",
    "\n",
    "map_to_source(tree)"
   ]
  },
  {
   "cell_type": "markdown",
   "metadata": {},
   "source": [
    "Since AUROC belows 0.5 is worse than random guessing, in the visualization below we substract 0.5 from the AUROC value and cap it above 0.0, namely set the accuracy as `max(AUROC - 0.5, 0)`."
   ]
  },
  {
   "cell_type": "code",
   "execution_count": 245,
   "metadata": {},
   "outputs": [
    {
     "data": {
      "image/png": "[encoded data removed]",
      "text/plain": [
       "<Figure size 720x432 with 2 Axes>"
      ]
     },
     "metadata": {
      "needs_background": "light"
     },
     "output_type": "display_data"
    }
   ],
   "source": [
    "def flatten(tree):\n",
    "    assert(type(tree) != tuple or len(tree) == 2)\n",
    "    if type(tree) != tuple:\n",
    "        return [tree]\n",
    "    return flatten(tree[0]) + flatten(tree[1])\n",
    "\n",
    "shuffle = flatten(tree)\n",
    "shuffle_mat = np.empty_like(mat)\n",
    "for i in range(mat.shape[0]):\n",
    "    shuffle_mat[i] = mat[i][shuffle]\n",
    "shuffle_mat = shuffle_mat[shuffle]\n",
    "\n",
    "fig, ax = plt.subplots(figsize=(10, 6))\n",
    "cax = ax.matshow((shuffle_mat - 0.5).clip(0.0))\n",
    "fig.colorbar(cax);"
   ]
  },
  {
   "attachments": {
    "image.png": {
     "image/png": "[encoded data removed]"
    }
   },
   "cell_type": "markdown",
   "metadata": {},
   "source": [
    "# Data sources\n",
    "\n",
    "![image.png](attachment:image.png)"
   ]
  },
  {
   "cell_type": "code",
   "execution_count": null,
   "metadata": {},
   "outputs": [],
   "source": []
  }
 ],
 "metadata": {
  "kernelspec": {
   "display_name": "Python 3",
   "language": "python",
   "name": "python3"
  },
  "language_info": {
   "codemirror_mode": {
    "name": "ipython",
    "version": 3
   },
   "file_extension": ".py",
   "mimetype": "text/x-python",
   "name": "python",
   "nbconvert_exporter": "python",
   "pygments_lexer": "ipython3",
   "version": "3.7.2"
  }
 },
 "nbformat": 4,
 "nbformat_minor": 2
}

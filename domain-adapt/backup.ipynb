{
 "cells": [
  {
   "cell_type": "markdown",
   "metadata": {},
   "source": [
    "# Backup"
   ]
  },
  {
   "cell_type": "code",
   "execution_count": null,
   "metadata": {},
   "outputs": [],
   "source": [
    "import os\n",
    "import shutil\n",
    "\n",
    "\n",
    "def get_models():\n",
    "    model_pkl = \"model.pkl\"\n",
    "    model_txt = \"model.txt\"\n",
    "    score_self = \"testing.libsvm_score_self\"\n",
    "    ret = []\n",
    "    for root, subdirs, files in os.walk(\"./\"):\n",
    "        if root.endswith(\"libsvm\"):\n",
    "            files = (\n",
    "                root, (\n",
    "                    os.path.join(root, model_pkl),\n",
    "                    os.path.join(root, model_txt),\n",
    "                    os.path.join(root, score_self),\n",
    "                ),\n",
    "            )\n",
    "            for filename in files[1]:\n",
    "                assert(os.path.exists(filename))\n",
    "            ret.append(files)\n",
    "    return ret\n",
    "\n",
    "\n",
    "def backup(files):\n",
    "    if not os.path.exists(\"./backup\"):\n",
    "        os.mkdir(\"./backup\")\n",
    "    for root, filenames in files:\n",
    "        target = os.path.join(\"./backup\", root)\n",
    "        if not os.path.exists(target):\n",
    "            os.mkdir(target)\n",
    "        for filename in filenames:\n",
    "            shutil.copy(filename, target)"
   ]
  },
  {
   "cell_type": "code",
   "execution_count": null,
   "metadata": {},
   "outputs": [],
   "source": [
    "ret = get_models()\n",
    "backup(ret)"
   ]
  }
 ],
 "metadata": {
  "kernelspec": {
   "display_name": "Python 3",
   "language": "python",
   "name": "python3"
  },
  "language_info": {
   "codemirror_mode": {
    "name": "ipython",
    "version": 3
   },
   "file_extension": ".py",
   "mimetype": "text/x-python",
   "name": "python",
   "nbconvert_exporter": "python",
   "pygments_lexer": "ipython3",
   "version": "3.7.2"
  }
 },
 "nbformat": 4,
 "nbformat_minor": 2
}

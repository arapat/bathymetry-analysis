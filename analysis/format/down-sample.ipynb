{
 "cells": [
  {
   "cell_type": "code",
   "execution_count": 16,
   "metadata": {},
   "outputs": [],
   "source": [
    "import os\n",
    "import numpy as np\n",
    "import pickle as pkl\n",
    "from random import random\n",
    "\n",
    "POS_CAP = 100000.0\n",
    "NEG_CAP = 1000000.0\n",
    "\n",
    "def get_processed_data(filename, with_all=False):\n",
    "    # Load data\n",
    "    if \"label-leak-one-source\" not in filename:\n",
    "        with open(filename, 'rb') as f:\n",
    "            # (labels, scores, weights) = pkl.load(f)\n",
    "            _, df = pkl.load(f)\n",
    "            (labels, scores, weights) = df[:, 0], df[:, 1], df[:, 2]\n",
    "    else:\n",
    "        if \"labels\" in filename:\n",
    "            print(\"None\")\n",
    "            return None\n",
    "        region = filename.rsplit('_', 2)[1]\n",
    "        if region == \"geodas\":\n",
    "            region = \"NOAA_geodas\"\n",
    "        elif region == \"multi\":\n",
    "            region = \"US_multi\"\n",
    "        labels_fn = filename.rsplit('/', 1)[0] + \"/labels_{}\".format(region)\n",
    "        scores_fn = filename\n",
    "        with open(labels_fn, 'rb') as f:\n",
    "            labels = pkl.load(f)\n",
    "        with open(scores_fn, 'rb') as f:\n",
    "            scores = pkl.load(f)\n",
    "        weights = np.ones(len(labels))\n",
    "\n",
    "    # Map scores to [-1, 1]\n",
    "    max_scores, min_scores = np.max(scores), np.min(scores)\n",
    "    if abs(min_scores) <= 1e-3:\n",
    "        scores = np.array(scores) * 2 - 1\n",
    "        max_scores, min_scores = np.max(scores), np.min(scores)\n",
    "    # Map labels to -1 or 1\n",
    "    if abs(np.min(labels)) <= 1e-8:\n",
    "        labels = labels * 2 - 1\n",
    "\n",
    "    # Some preprocess\n",
    "    norm = np.max([np.abs(max_scores), np.abs(min_scores)])\n",
    "    scores = scores / norm\n",
    "    n_pos = np.sum(labels > 0)\n",
    "    n_neg = labels.shape[0] - n_pos\n",
    "    if with_all:\n",
    "        # rate_pos = rate_neg = 0.1\n",
    "        rate_pos = rate_neg = 0.01\n",
    "    else:\n",
    "        rate_pos = POS_CAP / max(1.0, n_pos)\n",
    "        rate_neg = NEG_CAP / n_neg\n",
    "    # Down sample\n",
    "    mask = []\n",
    "    for i in range(labels.shape[0]):\n",
    "        if labels[i] < 0 and random() <= rate_neg:\n",
    "            mask.append(True)\n",
    "            if rate_neg < 1.0:\n",
    "                weights[i] /= rate_neg\n",
    "        elif labels[i] > 0 and random() <= rate_pos:\n",
    "            mask.append(True)\n",
    "            if rate_pos < 1.0:\n",
    "                weights[i] /= rate_pos\n",
    "        else:\n",
    "            mask.append(False)\n",
    "    labels = labels[mask]\n",
    "    scores = scores[mask]\n",
    "    weights = weights[mask]\n",
    "    # error = (scores * labels) <= 0\n",
    "    # return np.array(sorted(list(zip(labels, scores, error, weights))))\n",
    "    return ((n_pos, n_neg), np.array(sorted(list(zip(labels, scores, weights)))))\n",
    "\n",
    "\n",
    "def write_data(data, filename):\n",
    "    # target = filename.replace(\"yf-talk-\", \"\")\n",
    "    target = filename.replace(\"yf-talk-\", \"new-\")\n",
    "    base = target.rsplit('/', 1)[0]\n",
    "    if not os.path.exists(base):\n",
    "        os.mkdir(base)\n",
    "    with open(target, 'wb') as f:\n",
    "        pkl.dump(data, f)"
   ]
  },
  {
   "cell_type": "code",
   "execution_count": 9,
   "metadata": {},
   "outputs": [
    {
     "data": {
      "text/plain": [
       "['label-leak-all',\n",
       " 'label-leak-one-source',\n",
       " 'one-source',\n",
       " 'unweighted-one-source',\n",
       " 'with-all']"
      ]
     },
     "execution_count": 9,
     "metadata": {},
     "output_type": "execute_result"
    }
   ],
   "source": [
    "os.listdir(\"yf-talk-scores\")"
   ]
  },
  {
   "cell_type": "code",
   "execution_count": 18,
   "metadata": {},
   "outputs": [
    {
     "name": "stdout",
     "output_type": "stream",
     "text": [
      "Now process label-leak-all\n",
      "testing_result_AGSO\n",
      "testing_result_JAMSTEC\n",
      "testing_result_NGA\n",
      "testing_result_NGDC\n",
      "testing_result_NOAA_geodas\n",
      "testing_result_SIO\n",
      "testing_result_US_multi\n",
      "label-leak-all is done.\n"
     ]
    }
   ],
   "source": [
    "from os import listdir\n",
    "\n",
    "base = \"yf-talk-scores\"\n",
    "for cat in [\"label-leak-all\"]:  # listdir(base):\n",
    "    print(\"Now process {}\".format(cat))\n",
    "    for filename in listdir(\"{}/{}\".format(base, cat)):\n",
    "        print(\"{}\".format(filename))\n",
    "        path = \"{}/{}/{}\".format(base, cat, filename)\n",
    "        # if not os.path.exists(path.replace(\"yf-talk-\", \"\")):\n",
    "        if True:\n",
    "            data = get_processed_data(path, with_all=\"all\" in cat)\n",
    "            if data is not None:\n",
    "                write_data(data, path)\n",
    "            else:\n",
    "                print(\"{} is not valid\".format(path))\n",
    "    print(\"{} is done.\".format(cat))"
   ]
  },
  {
   "cell_type": "code",
   "execution_count": null,
   "metadata": {},
   "outputs": [],
   "source": []
  }
 ],
 "metadata": {
  "kernelspec": {
   "display_name": "Python 3",
   "language": "python",
   "name": "python3"
  },
  "language_info": {
   "codemirror_mode": {
    "name": "ipython",
    "version": 3
   },
   "file_extension": ".py",
   "mimetype": "text/x-python",
   "name": "python",
   "nbconvert_exporter": "python",
   "pygments_lexer": "ipython3",
   "version": "3.7.3"
  }
 },
 "nbformat": 4,
 "nbformat_minor": 2
}
